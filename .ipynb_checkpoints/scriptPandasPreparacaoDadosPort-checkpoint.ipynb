{
 "cells": [
  {
   "cell_type": "markdown",
   "id": "7e160a6d-b456-40bb-aaea-3f94291bf1ca",
   "metadata": {},
   "source": [
    "# PROJETO SUBWAY - LIMPEZA, PREPARAÇÃO E EXPORTAÇÃO DE DADOS"
   ]
  },
  {
   "cell_type": "markdown",
   "id": "6cda0cd5-b0d8-4055-be36-ab60263a8934",
   "metadata": {},
   "source": [
    "#### Os dados usados nesse script assim como outras informações nos códigos a seguir são dados fictícios, mas os dados usados durante o uso principal foram dados reais coletados a partir da base de dados."
   ]
  },
  {
   "cell_type": "markdown",
   "id": "67cb3827-9c61-450f-a8ee-e248688e66cf",
   "metadata": {},
   "source": [
    "## IMPORTAÇÃO DO PANDAS"
   ]
  },
  {
   "cell_type": "code",
   "execution_count": 1,
   "id": "89b4b3e3-be19-4a08-a035-fc094cf41d69",
   "metadata": {
    "editable": true,
    "slideshow": {
     "slide_type": ""
    },
    "tags": []
   },
   "outputs": [],
   "source": [
    "import pandas as pd\n",
    "\n",
    "# removendo a limitação de linhas a serem exibidas\n",
    "pd.set_option('display.max_rows', None)"
   ]
  },
  {
   "cell_type": "markdown",
   "id": "e16e4fac-e73e-49db-b521-5da74fcdceb1",
   "metadata": {},
   "source": [
    "## IMPORTAÇÃO DO ARQUIVO"
   ]
  },
  {
   "cell_type": "code",
   "execution_count": 2,
   "id": "6dfbfbbd-096c-418c-a785-e2bf014e62e5",
   "metadata": {},
   "outputs": [
    {
     "data": {
      "text/html": [
       "<div>\n",
       "<style scoped>\n",
       "    .dataframe tbody tr th:only-of-type {\n",
       "        vertical-align: middle;\n",
       "    }\n",
       "\n",
       "    .dataframe tbody tr th {\n",
       "        vertical-align: top;\n",
       "    }\n",
       "\n",
       "    .dataframe thead th {\n",
       "        text-align: right;\n",
       "    }\n",
       "</style>\n",
       "<table border=\"1\" class=\"dataframe\">\n",
       "  <thead>\n",
       "    <tr style=\"text-align: right;\">\n",
       "      <th></th>\n",
       "      <th>Coluna1</th>\n",
       "      <th>Coluna2</th>\n",
       "      <th>Coluna3</th>\n",
       "      <th>Coluna4</th>\n",
       "      <th>Coluna5</th>\n",
       "      <th>Coluna6</th>\n",
       "      <th>Coluna7</th>\n",
       "      <th>Coluna8</th>\n",
       "      <th>Coluna9</th>\n",
       "      <th>Coluna10</th>\n",
       "      <th>Coluna11</th>\n",
       "    </tr>\n",
       "  </thead>\n",
       "  <tbody>\n",
       "    <tr>\n",
       "      <th>0</th>\n",
       "      <td>387294752983651042689</td>\n",
       "      <td>89356712</td>\n",
       "      <td>12345601234</td>\n",
       "      <td>KK</td>\n",
       "      <td>555</td>\n",
       "      <td>FF</td>\n",
       "      <td>15</td>\n",
       "      <td>9876543</td>\n",
       "      <td>12345.0</td>\n",
       "      <td>20230403070130</td>\n",
       "      <td>20230517</td>\n",
       "    </tr>\n",
       "    <tr>\n",
       "      <th>1</th>\n",
       "      <td>987654321098765432156</td>\n",
       "      <td>20987453612</td>\n",
       "      <td>546701234567</td>\n",
       "      <td>LL</td>\n",
       "      <td>444</td>\n",
       "      <td>RR</td>\n",
       "      <td>14</td>\n",
       "      <td>7654321</td>\n",
       "      <td>NaN</td>\n",
       "      <td>20230415210918</td>\n",
       "      <td>20230517</td>\n",
       "    </tr>\n",
       "    <tr>\n",
       "      <th>2</th>\n",
       "      <td>123456789012345678901</td>\n",
       "      <td>653197856</td>\n",
       "      <td>780943567890</td>\n",
       "      <td>KK</td>\n",
       "      <td>222</td>\n",
       "      <td>FF</td>\n",
       "      <td>16</td>\n",
       "      <td>3456789</td>\n",
       "      <td>12345.0</td>\n",
       "      <td>20230403120111</td>\n",
       "      <td>20230517</td>\n",
       "    </tr>\n",
       "    <tr>\n",
       "      <th>3</th>\n",
       "      <td>098765432156789012345</td>\n",
       "      <td>574612035</td>\n",
       "      <td>98765432109876</td>\n",
       "      <td>LL</td>\n",
       "      <td>333</td>\n",
       "      <td>RR</td>\n",
       "      <td>15</td>\n",
       "      <td>6543210</td>\n",
       "      <td>NaN</td>\n",
       "      <td>20230428140722</td>\n",
       "      <td>20230517</td>\n",
       "    </tr>\n",
       "    <tr>\n",
       "      <th>4</th>\n",
       "      <td>345678901234567890123</td>\n",
       "      <td>79865071</td>\n",
       "      <td>321076543210</td>\n",
       "      <td>KK</td>\n",
       "      <td>111</td>\n",
       "      <td>FF</td>\n",
       "      <td>13</td>\n",
       "      <td>8901234</td>\n",
       "      <td>12345.0</td>\n",
       "      <td>20230405180329</td>\n",
       "      <td>20230517</td>\n",
       "    </tr>\n",
       "  </tbody>\n",
       "</table>\n",
       "</div>"
      ],
      "text/plain": [
       "                 Coluna1      Coluna2         Coluna3 Coluna4  Coluna5  \\\n",
       "0  387294752983651042689     89356712     12345601234      KK      555   \n",
       "1  987654321098765432156  20987453612    546701234567      LL      444   \n",
       "2  123456789012345678901    653197856    780943567890      KK      222   \n",
       "3  098765432156789012345    574612035  98765432109876      LL      333   \n",
       "4  345678901234567890123     79865071    321076543210      KK      111   \n",
       "\n",
       "  Coluna6  Coluna7  Coluna8  Coluna9        Coluna10  Coluna11  \n",
       "0      FF       15  9876543  12345.0  20230403070130  20230517  \n",
       "1      RR       14  7654321      NaN  20230415210918  20230517  \n",
       "2      FF       16  3456789  12345.0  20230403120111  20230517  \n",
       "3      RR       15  6543210      NaN  20230428140722  20230517  \n",
       "4      FF       13  8901234  12345.0  20230405180329  20230517  "
      ]
     },
     "execution_count": 2,
     "metadata": {},
     "output_type": "execute_result"
    }
   ],
   "source": [
    "# importar o arquivo\n",
    "data = pd.read_csv(\"./data.csv\", sep=';', encoding='utf-8')\n",
    "\n",
    "# verificar dados\n",
    "data.head(5)"
   ]
  },
  {
   "cell_type": "markdown",
   "id": "3225e888-4607-4188-93e1-35a98da12284",
   "metadata": {
    "editable": true,
    "slideshow": {
     "slide_type": ""
    },
    "tags": []
   },
   "source": [
    "## ALTERAR NOME DAS COLUNAS"
   ]
  },
  {
   "cell_type": "code",
   "execution_count": 3,
   "id": "ac47a4a4-898e-442b-af76-3f5da79c99f7",
   "metadata": {
    "editable": true,
    "slideshow": {
     "slide_type": ""
    },
    "tags": []
   },
   "outputs": [
    {
     "data": {
      "text/plain": [
       "0        numeroPort\n",
       "1            cpfCli\n",
       "2           cnpjEmp\n",
       "3     tipoPessoaEmp\n",
       "4         bancoDest\n",
       "5     tipoContaDest\n",
       "6            agDest\n",
       "7      contaCliDest\n",
       "8       contaPgDest\n",
       "9         dataHrReg\n",
       "10          dataSit\n",
       "dtype: object"
      ]
     },
     "execution_count": 3,
     "metadata": {},
     "output_type": "execute_result"
    }
   ],
   "source": [
    "# mudar nome das colunas\n",
    "data.columns = [  'numeroPort', \n",
    "                    'cpfCli',\n",
    "                    'cnpjEmp',\n",
    "                    'tipoPessoaEmp',\n",
    "                    'bancoDest',\n",
    "                    'tipoContaDest',\n",
    "                    'agDest',\n",
    "                    'contaCliDest',\n",
    "                    'contaPgDest',\n",
    "                    'dataHrReg',\n",
    "                    'dataSit' \n",
    "                   ]\n",
    "\n",
    "# criar serie para facilitar leitura das novas colunas\n",
    "name_coluns = pd.Series(data.columns)\n",
    "\n",
    "# verificar \n",
    "name_coluns"
   ]
  },
  {
   "cell_type": "markdown",
   "id": "5daca963-79ac-42e0-8c1f-f037d26839dd",
   "metadata": {},
   "source": [
    "## ALTERAR O TIPO DE DADOS DE ALGUMAS COLUNAS"
   ]
  },
  {
   "cell_type": "code",
   "execution_count": 4,
   "id": "4c08dcb5-f87d-4864-a068-3bdecbc4992d",
   "metadata": {
    "editable": true,
    "slideshow": {
     "slide_type": ""
    },
    "tags": []
   },
   "outputs": [
    {
     "data": {
      "text/plain": [
       "numeroPort       object\n",
       "cpfCli           object\n",
       "cnpjEmp          object\n",
       "tipoPessoaEmp    object\n",
       "bancoDest         Int64\n",
       "tipoContaDest    object\n",
       "agDest           object\n",
       "contaCliDest     object\n",
       "contaPgDest      object\n",
       "dataHrReg         int64\n",
       "dataSit           int64\n",
       "dtype: object"
      ]
     },
     "execution_count": 4,
     "metadata": {},
     "output_type": "execute_result"
    }
   ],
   "source": [
    "# alterar o tipo\n",
    "data['cpfCli']       = data['cpfCli'].astype('str')\n",
    "data['cnpjEmp']      = data['cnpjEmp'].astype('str')\n",
    "data['bancoDest']    = data['bancoDest'].astype('Int64')\n",
    "data['agDest']       = data['agDest'].astype('str')\n",
    "data['contaCliDest'] = data['contaCliDest'].astype('str')\n",
    "data['contaPgDest']  = data['contaPgDest'].astype('str')\n",
    "\n",
    "# verificar\n",
    "data.dtypes"
   ]
  },
  {
   "cell_type": "markdown",
   "id": "97df2b6d-cc51-460f-ad25-0e91606673ed",
   "metadata": {},
   "source": [
    "## ADICIONAR NÚMERO '0' NO INÍCIO DOS VALORES DAS COLUNAS 'cpfCli' E 'cnpjEmp'"
   ]
  },
  {
   "cell_type": "code",
   "execution_count": 5,
   "id": "fce25bd2-44f5-4906-a708-2b7dce224ba8",
   "metadata": {},
   "outputs": [
    {
     "data": {
      "text/html": [
       "<div>\n",
       "<style scoped>\n",
       "    .dataframe tbody tr th:only-of-type {\n",
       "        vertical-align: middle;\n",
       "    }\n",
       "\n",
       "    .dataframe tbody tr th {\n",
       "        vertical-align: top;\n",
       "    }\n",
       "\n",
       "    .dataframe thead th {\n",
       "        text-align: right;\n",
       "    }\n",
       "</style>\n",
       "<table border=\"1\" class=\"dataframe\">\n",
       "  <thead>\n",
       "    <tr style=\"text-align: right;\">\n",
       "      <th></th>\n",
       "      <th>cpfCli</th>\n",
       "      <th>cnpjEmp</th>\n",
       "    </tr>\n",
       "  </thead>\n",
       "  <tbody>\n",
       "    <tr>\n",
       "      <th>0</th>\n",
       "      <td>00089356712</td>\n",
       "      <td>00012345601234</td>\n",
       "    </tr>\n",
       "    <tr>\n",
       "      <th>1</th>\n",
       "      <td>20987453612</td>\n",
       "      <td>00546701234567</td>\n",
       "    </tr>\n",
       "    <tr>\n",
       "      <th>2</th>\n",
       "      <td>00653197856</td>\n",
       "      <td>00780943567890</td>\n",
       "    </tr>\n",
       "    <tr>\n",
       "      <th>3</th>\n",
       "      <td>00574612035</td>\n",
       "      <td>98765432109876</td>\n",
       "    </tr>\n",
       "    <tr>\n",
       "      <th>4</th>\n",
       "      <td>00079865071</td>\n",
       "      <td>00321076543210</td>\n",
       "    </tr>\n",
       "  </tbody>\n",
       "</table>\n",
       "</div>"
      ],
      "text/plain": [
       "        cpfCli         cnpjEmp\n",
       "0  00089356712  00012345601234\n",
       "1  20987453612  00546701234567\n",
       "2  00653197856  00780943567890\n",
       "3  00574612035  98765432109876\n",
       "4  00079865071  00321076543210"
      ]
     },
     "execution_count": 5,
     "metadata": {},
     "output_type": "execute_result"
    }
   ],
   "source": [
    "# adicionar 0 nos valores da coluna cpfCli, respeitando a quantidade de valores total = 11\n",
    "data['cpfCli'] = data['cpfCli'].str.zfill(11)\n",
    "# adicionar 0 nos valores da coluna cnpjEmp, respeitando a quantidade de valores total = 14\n",
    "data['cnpjEmp'] = data['cnpjEmp'].str.zfill(14)\n",
    "\n",
    "# verificar\n",
    "data[['cpfCli','cnpjEmp']].head(5)"
   ]
  },
  {
   "cell_type": "markdown",
   "id": "03dc52b3-8590-4274-b1e8-dece231954b8",
   "metadata": {},
   "source": [
    "## FORMATAR VALORES DE DATAS DAS COLUNAS 'dataHrReg' E 'dataSit'"
   ]
  },
  {
   "cell_type": "code",
   "execution_count": 6,
   "id": "467d09c4-469d-4843-8f2e-aac772233913",
   "metadata": {},
   "outputs": [
    {
     "data": {
      "text/html": [
       "<div>\n",
       "<style scoped>\n",
       "    .dataframe tbody tr th:only-of-type {\n",
       "        vertical-align: middle;\n",
       "    }\n",
       "\n",
       "    .dataframe tbody tr th {\n",
       "        vertical-align: top;\n",
       "    }\n",
       "\n",
       "    .dataframe thead th {\n",
       "        text-align: right;\n",
       "    }\n",
       "</style>\n",
       "<table border=\"1\" class=\"dataframe\">\n",
       "  <thead>\n",
       "    <tr style=\"text-align: right;\">\n",
       "      <th></th>\n",
       "      <th>dataHrReg</th>\n",
       "      <th>dataSit</th>\n",
       "    </tr>\n",
       "  </thead>\n",
       "  <tbody>\n",
       "    <tr>\n",
       "      <th>0</th>\n",
       "      <td>2023-04-03 07:01:30</td>\n",
       "      <td>2023-05-17</td>\n",
       "    </tr>\n",
       "    <tr>\n",
       "      <th>1</th>\n",
       "      <td>2023-04-15 21:09:18</td>\n",
       "      <td>2023-05-17</td>\n",
       "    </tr>\n",
       "    <tr>\n",
       "      <th>2</th>\n",
       "      <td>2023-04-03 12:01:11</td>\n",
       "      <td>2023-05-17</td>\n",
       "    </tr>\n",
       "    <tr>\n",
       "      <th>3</th>\n",
       "      <td>2023-04-28 14:07:22</td>\n",
       "      <td>2023-05-17</td>\n",
       "    </tr>\n",
       "    <tr>\n",
       "      <th>4</th>\n",
       "      <td>2023-04-05 18:03:29</td>\n",
       "      <td>2023-05-17</td>\n",
       "    </tr>\n",
       "  </tbody>\n",
       "</table>\n",
       "</div>"
      ],
      "text/plain": [
       "            dataHrReg    dataSit\n",
       "0 2023-04-03 07:01:30 2023-05-17\n",
       "1 2023-04-15 21:09:18 2023-05-17\n",
       "2 2023-04-03 12:01:11 2023-05-17\n",
       "3 2023-04-28 14:07:22 2023-05-17\n",
       "4 2023-04-05 18:03:29 2023-05-17"
      ]
     },
     "execution_count": 6,
     "metadata": {},
     "output_type": "execute_result"
    }
   ],
   "source": [
    "# formatar campos\n",
    "# o campos da coluna 'dataHrReg' será Data e Hora\n",
    "data['dataHrReg'] = pd.to_datetime(data['dataHrReg'], format='%Y%m%d%H%M%S')\n",
    "# o campos da coluna 'dataSit' será apenas Data\n",
    "data['dataSit'] = pd.to_datetime(data['dataSit'], format='%Y%m%d')\n",
    "\n",
    "# verificar\n",
    "data[['dataHrReg','dataSit']].head(5)"
   ]
  },
  {
   "cell_type": "markdown",
   "id": "8a494770-7573-4f10-b0bd-523588d29700",
   "metadata": {},
   "source": [
    "## ADICIONAR VALOR 'NULL' NAS COLUNAS agDest, contaCliDest e contaPgDest"
   ]
  },
  {
   "cell_type": "code",
   "execution_count": 7,
   "id": "d3d9a312-61e1-4e3d-bd79-1f7b237e02ae",
   "metadata": {},
   "outputs": [
    {
     "data": {
      "text/html": [
       "<div>\n",
       "<style scoped>\n",
       "    .dataframe tbody tr th:only-of-type {\n",
       "        vertical-align: middle;\n",
       "    }\n",
       "\n",
       "    .dataframe tbody tr th {\n",
       "        vertical-align: top;\n",
       "    }\n",
       "\n",
       "    .dataframe thead th {\n",
       "        text-align: right;\n",
       "    }\n",
       "</style>\n",
       "<table border=\"1\" class=\"dataframe\">\n",
       "  <thead>\n",
       "    <tr style=\"text-align: right;\">\n",
       "      <th></th>\n",
       "      <th>numeroPort</th>\n",
       "      <th>cpfCli</th>\n",
       "      <th>cnpjEmp</th>\n",
       "      <th>tipoPessoaEmp</th>\n",
       "      <th>bancoDest</th>\n",
       "      <th>tipoContaDest</th>\n",
       "      <th>agDest</th>\n",
       "      <th>contaCliDest</th>\n",
       "      <th>contaPgDest</th>\n",
       "      <th>dataHrReg</th>\n",
       "      <th>dataSit</th>\n",
       "    </tr>\n",
       "  </thead>\n",
       "  <tbody>\n",
       "    <tr>\n",
       "      <th>0</th>\n",
       "      <td>387294752983651042689</td>\n",
       "      <td>00089356712</td>\n",
       "      <td>00012345601234</td>\n",
       "      <td>KK</td>\n",
       "      <td>555</td>\n",
       "      <td>FF</td>\n",
       "      <td>15</td>\n",
       "      <td>9876543</td>\n",
       "      <td>12345.0</td>\n",
       "      <td>2023-04-03 07:01:30</td>\n",
       "      <td>2023-05-17</td>\n",
       "    </tr>\n",
       "    <tr>\n",
       "      <th>1</th>\n",
       "      <td>987654321098765432156</td>\n",
       "      <td>20987453612</td>\n",
       "      <td>00546701234567</td>\n",
       "      <td>LL</td>\n",
       "      <td>444</td>\n",
       "      <td>RR</td>\n",
       "      <td>14</td>\n",
       "      <td>7654321</td>\n",
       "      <td>nan</td>\n",
       "      <td>2023-04-15 21:09:18</td>\n",
       "      <td>2023-05-17</td>\n",
       "    </tr>\n",
       "    <tr>\n",
       "      <th>2</th>\n",
       "      <td>123456789012345678901</td>\n",
       "      <td>00653197856</td>\n",
       "      <td>00780943567890</td>\n",
       "      <td>KK</td>\n",
       "      <td>222</td>\n",
       "      <td>FF</td>\n",
       "      <td>16</td>\n",
       "      <td>3456789</td>\n",
       "      <td>12345.0</td>\n",
       "      <td>2023-04-03 12:01:11</td>\n",
       "      <td>2023-05-17</td>\n",
       "    </tr>\n",
       "    <tr>\n",
       "      <th>3</th>\n",
       "      <td>098765432156789012345</td>\n",
       "      <td>00574612035</td>\n",
       "      <td>98765432109876</td>\n",
       "      <td>LL</td>\n",
       "      <td>333</td>\n",
       "      <td>RR</td>\n",
       "      <td>15</td>\n",
       "      <td>6543210</td>\n",
       "      <td>nan</td>\n",
       "      <td>2023-04-28 14:07:22</td>\n",
       "      <td>2023-05-17</td>\n",
       "    </tr>\n",
       "    <tr>\n",
       "      <th>4</th>\n",
       "      <td>345678901234567890123</td>\n",
       "      <td>00079865071</td>\n",
       "      <td>00321076543210</td>\n",
       "      <td>KK</td>\n",
       "      <td>111</td>\n",
       "      <td>FF</td>\n",
       "      <td>13</td>\n",
       "      <td>8901234</td>\n",
       "      <td>12345.0</td>\n",
       "      <td>2023-04-05 18:03:29</td>\n",
       "      <td>2023-05-17</td>\n",
       "    </tr>\n",
       "    <tr>\n",
       "      <th>5</th>\n",
       "      <td>876543210987654321098</td>\n",
       "      <td>65781293460</td>\n",
       "      <td>00589012345678</td>\n",
       "      <td>LL</td>\n",
       "      <td>555</td>\n",
       "      <td>RR</td>\n",
       "      <td>15</td>\n",
       "      <td>5678901</td>\n",
       "      <td>nan</td>\n",
       "      <td>2023-04-20 19:03:11</td>\n",
       "      <td>2023-05-17</td>\n",
       "    </tr>\n",
       "    <tr>\n",
       "      <th>6</th>\n",
       "      <td>543210987654321098765</td>\n",
       "      <td>00341659840</td>\n",
       "      <td>00090156789012</td>\n",
       "      <td>KK</td>\n",
       "      <td>444</td>\n",
       "      <td>FF</td>\n",
       "      <td>16</td>\n",
       "      <td>6543210</td>\n",
       "      <td>12345.0</td>\n",
       "      <td>2023-04-06 05:06:49</td>\n",
       "      <td>2023-05-17</td>\n",
       "    </tr>\n",
       "    <tr>\n",
       "      <th>7</th>\n",
       "      <td>234567890123456789012</td>\n",
       "      <td>89043217659</td>\n",
       "      <td>00234567012345</td>\n",
       "      <td>LL</td>\n",
       "      <td>222</td>\n",
       "      <td>RR</td>\n",
       "      <td>12</td>\n",
       "      <td>987654</td>\n",
       "      <td>nan</td>\n",
       "      <td>2023-04-09 15:02:35</td>\n",
       "      <td>2023-05-17</td>\n",
       "    </tr>\n",
       "    <tr>\n",
       "      <th>8</th>\n",
       "      <td>987654321098765432109</td>\n",
       "      <td>00568230192</td>\n",
       "      <td>00109876321098</td>\n",
       "      <td>KK</td>\n",
       "      <td>333</td>\n",
       "      <td>FF</td>\n",
       "      <td>15</td>\n",
       "      <td>3456789</td>\n",
       "      <td>12345.0</td>\n",
       "      <td>2023-04-27 01:09:08</td>\n",
       "      <td>2023-05-17</td>\n",
       "    </tr>\n",
       "    <tr>\n",
       "      <th>9</th>\n",
       "      <td>098765432109876543210</td>\n",
       "      <td>00043789504</td>\n",
       "      <td>00076543987654</td>\n",
       "      <td>LL</td>\n",
       "      <td>111</td>\n",
       "      <td>RR</td>\n",
       "      <td>14</td>\n",
       "      <td>7654321</td>\n",
       "      <td>nan</td>\n",
       "      <td>2023-04-24 20:07:56</td>\n",
       "      <td>2023-05-17</td>\n",
       "    </tr>\n",
       "  </tbody>\n",
       "</table>\n",
       "</div>"
      ],
      "text/plain": [
       "              numeroPort       cpfCli         cnpjEmp tipoPessoaEmp  \\\n",
       "0  387294752983651042689  00089356712  00012345601234            KK   \n",
       "1  987654321098765432156  20987453612  00546701234567            LL   \n",
       "2  123456789012345678901  00653197856  00780943567890            KK   \n",
       "3  098765432156789012345  00574612035  98765432109876            LL   \n",
       "4  345678901234567890123  00079865071  00321076543210            KK   \n",
       "5  876543210987654321098  65781293460  00589012345678            LL   \n",
       "6  543210987654321098765  00341659840  00090156789012            KK   \n",
       "7  234567890123456789012  89043217659  00234567012345            LL   \n",
       "8  987654321098765432109  00568230192  00109876321098            KK   \n",
       "9  098765432109876543210  00043789504  00076543987654            LL   \n",
       "\n",
       "   bancoDest tipoContaDest agDest contaCliDest contaPgDest  \\\n",
       "0        555            FF     15      9876543     12345.0   \n",
       "1        444            RR     14      7654321         nan   \n",
       "2        222            FF     16      3456789     12345.0   \n",
       "3        333            RR     15      6543210         nan   \n",
       "4        111            FF     13      8901234     12345.0   \n",
       "5        555            RR     15      5678901         nan   \n",
       "6        444            FF     16      6543210     12345.0   \n",
       "7        222            RR     12       987654         nan   \n",
       "8        333            FF     15      3456789     12345.0   \n",
       "9        111            RR     14      7654321         nan   \n",
       "\n",
       "            dataHrReg    dataSit  \n",
       "0 2023-04-03 07:01:30 2023-05-17  \n",
       "1 2023-04-15 21:09:18 2023-05-17  \n",
       "2 2023-04-03 12:01:11 2023-05-17  \n",
       "3 2023-04-28 14:07:22 2023-05-17  \n",
       "4 2023-04-05 18:03:29 2023-05-17  \n",
       "5 2023-04-20 19:03:11 2023-05-17  \n",
       "6 2023-04-06 05:06:49 2023-05-17  \n",
       "7 2023-04-09 15:02:35 2023-05-17  \n",
       "8 2023-04-27 01:09:08 2023-05-17  \n",
       "9 2023-04-24 20:07:56 2023-05-17  "
      ]
     },
     "execution_count": 7,
     "metadata": {},
     "output_type": "execute_result"
    }
   ],
   "source": [
    "# adicionar o valor NULL nas colunas que estiverem com valor vazio\n",
    "data['agDest'].fillna('NULL', inplace=True)\n",
    "data['contaCliDest'].fillna('NULL', inplace=True)\n",
    "data['contaPgDest'].fillna('NULL', inplace=True)\n",
    "\n",
    "# verificar\n",
    "data.head(10)"
   ]
  },
  {
   "cell_type": "markdown",
   "id": "f55771b6-1928-4515-88b8-3b831b5bb885",
   "metadata": {},
   "source": [
    "## GERAR ARQUIVO MODIFICADO E PRONTO PARA USO COM BULK INSERT EM T-SQL"
   ]
  },
  {
   "cell_type": "code",
   "execution_count": 8,
   "id": "fe2c7059-c0d5-4ea6-b20c-18806bab4757",
   "metadata": {},
   "outputs": [],
   "source": [
    "# exportar dataframe para arquivo.csv\n",
    "data.to_csv('./dadosLimpos.csv', index=False)"
   ]
  },
  {
   "cell_type": "markdown",
   "id": "fffb0255-947e-4340-8513-e0c3f673a704",
   "metadata": {},
   "source": [
    "### O arquivo final gerado, após a limpeza e tratamento, foi usado em uma consulta T-sql para cadastro e geração de relatório."
   ]
  }
 ],
 "metadata": {
  "kernelspec": {
   "display_name": "Python 3 (ipykernel)",
   "language": "python",
   "name": "python3"
  },
  "language_info": {
   "codemirror_mode": {
    "name": "ipython",
    "version": 3
   },
   "file_extension": ".py",
   "mimetype": "text/x-python",
   "name": "python",
   "nbconvert_exporter": "python",
   "pygments_lexer": "ipython3",
   "version": "3.11.4"
  }
 },
 "nbformat": 4,
 "nbformat_minor": 5
}
